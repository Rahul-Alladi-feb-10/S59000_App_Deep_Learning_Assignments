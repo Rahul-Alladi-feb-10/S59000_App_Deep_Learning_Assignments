{
  "cells": [
    {
      "cell_type": "markdown",
      "metadata": {
        "id": "_sbCbx9-WWj3"
      },
      "source": [
        "**Predicting house prices: a scalar regression example**"
      ]
    },
    {
      "cell_type": "markdown",
      "metadata": {
        "id": "NrJEmF6_Wd8H"
      },
      "source": [
        "#Load the dataset"
      ]
    },
    {
      "cell_type": "code",
      "execution_count": 1,
      "metadata": {
        "id": "8ZvoBbcAWQuV"
      },
      "outputs": [
        {
          "name": "stdout",
          "output_type": "stream",
          "text": [
            "Downloading data from https://storage.googleapis.com/tensorflow/tf-keras-datasets/boston_housing.npz\n",
            "\u001b[1m57026/57026\u001b[0m \u001b[32m━━━━━━━━━━━━━━━━━━━━\u001b[0m\u001b[37m\u001b[0m \u001b[1m0s\u001b[0m 1us/step\n"
          ]
        }
      ],
      "source": [
        "from tensorflow.keras.datasets import boston_housing\n",
        "\n",
        "(train_data, train_targets), (test_data, test_targets) = (\n",
        "    boston_housing.load_data())"
      ]
    },
    {
      "cell_type": "code",
      "execution_count": 2,
      "metadata": {
        "id": "8jHtfpqeYOom"
      },
      "outputs": [
        {
          "data": {
            "text/plain": [
              "((404, 13), (102, 13))"
            ]
          },
          "execution_count": 2,
          "metadata": {},
          "output_type": "execute_result"
        }
      ],
      "source": [
        "train_data.shape, test_data.shape"
      ]
    },
    {
      "cell_type": "code",
      "execution_count": 3,
      "metadata": {
        "id": "MZLy1JuAYWxO"
      },
      "outputs": [
        {
          "data": {
            "text/plain": [
              "array([15.2, 42.3, 50. , 21.1, 17.7, 18.5, 11.3, 15.6, 15.6, 14.4, 12.1,\n",
              "       17.9, 23.1, 19.9, 15.7,  8.8, 50. , 22.5, 24.1, 27.5, 10.9, 30.8,\n",
              "       32.9, 24. , 18.5, 13.3, 22.9, 34.7, 16.6, 17.5, 22.3, 16.1, 14.9,\n",
              "       23.1, 34.9, 25. , 13.9, 13.1, 20.4, 20. , 15.2, 24.7, 22.2, 16.7,\n",
              "       12.7, 15.6, 18.4, 21. , 30.1, 15.1, 18.7,  9.6, 31.5, 24.8, 19.1,\n",
              "       22. , 14.5, 11. , 32. , 29.4, 20.3, 24.4, 14.6, 19.5, 14.1, 14.3,\n",
              "       15.6, 10.5,  6.3, 19.3, 19.3, 13.4, 36.4, 17.8, 13.5, 16.5,  8.3,\n",
              "       14.3, 16. , 13.4, 28.6, 43.5, 20.2, 22. , 23. , 20.7, 12.5, 48.5,\n",
              "       14.6, 13.4, 23.7, 50. , 21.7, 39.8, 38.7, 22.2, 34.9, 22.5, 31.1,\n",
              "       28.7, 46. , 41.7, 21. , 26.6, 15. , 24.4, 13.3, 21.2, 11.7, 21.7,\n",
              "       19.4, 50. , 22.8, 19.7, 24.7, 36.2, 14.2, 18.9, 18.3, 20.6, 24.6,\n",
              "       18.2,  8.7, 44. , 10.4, 13.2, 21.2, 37. , 30.7, 22.9, 20. , 19.3,\n",
              "       31.7, 32. , 23.1, 18.8, 10.9, 50. , 19.6,  5. , 14.4, 19.8, 13.8,\n",
              "       19.6, 23.9, 24.5, 25. , 19.9, 17.2, 24.6, 13.5, 26.6, 21.4, 11.9,\n",
              "       22.6, 19.6,  8.5, 23.7, 23.1, 22.4, 20.5, 23.6, 18.4, 35.2, 23.1,\n",
              "       27.9, 20.6, 23.7, 28. , 13.6, 27.1, 23.6, 20.6, 18.2, 21.7, 17.1,\n",
              "        8.4, 25.3, 13.8, 22.2, 18.4, 20.7, 31.6, 30.5, 20.3,  8.8, 19.2,\n",
              "       19.4, 23.1, 23. , 14.8, 48.8, 22.6, 33.4, 21.1, 13.6, 32.2, 13.1,\n",
              "       23.4, 18.9, 23.9, 11.8, 23.3, 22.8, 19.6, 16.7, 13.4, 22.2, 20.4,\n",
              "       21.8, 26.4, 14.9, 24.1, 23.8, 12.3, 29.1, 21. , 19.5, 23.3, 23.8,\n",
              "       17.8, 11.5, 21.7, 19.9, 25. , 33.4, 28.5, 21.4, 24.3, 27.5, 33.1,\n",
              "       16.2, 23.3, 48.3, 22.9, 22.8, 13.1, 12.7, 22.6, 15. , 15.3, 10.5,\n",
              "       24. , 18.5, 21.7, 19.5, 33.2, 23.2,  5. , 19.1, 12.7, 22.3, 10.2,\n",
              "       13.9, 16.3, 17. , 20.1, 29.9, 17.2, 37.3, 45.4, 17.8, 23.2, 29. ,\n",
              "       22. , 18. , 17.4, 34.6, 20.1, 25. , 15.6, 24.8, 28.2, 21.2, 21.4,\n",
              "       23.8, 31. , 26.2, 17.4, 37.9, 17.5, 20. ,  8.3, 23.9,  8.4, 13.8,\n",
              "        7.2, 11.7, 17.1, 21.6, 50. , 16.1, 20.4, 20.6, 21.4, 20.6, 36.5,\n",
              "        8.5, 24.8, 10.8, 21.9, 17.3, 18.9, 36.2, 14.9, 18.2, 33.3, 21.8,\n",
              "       19.7, 31.6, 24.8, 19.4, 22.8,  7.5, 44.8, 16.8, 18.7, 50. , 50. ,\n",
              "       19.5, 20.1, 50. , 17.2, 20.8, 19.3, 41.3, 20.4, 20.5, 13.8, 16.5,\n",
              "       23.9, 20.6, 31.5, 23.3, 16.8, 14. , 33.8, 36.1, 12.8, 18.3, 18.7,\n",
              "       19.1, 29. , 30.1, 50. , 50. , 22. , 11.9, 37.6, 50. , 22.7, 20.8,\n",
              "       23.5, 27.9, 50. , 19.3, 23.9, 22.6, 15.2, 21.7, 19.2, 43.8, 20.3,\n",
              "       33.2, 19.9, 22.5, 32.7, 22. , 17.1, 19. , 15. , 16.1, 25.1, 23.7,\n",
              "       28.7, 37.2, 22.6, 16.4, 25. , 29.8, 22.1, 17.4, 18.1, 30.3, 17.5,\n",
              "       24.7, 12.6, 26.5, 28.7, 13.3, 10.4, 24.4, 23. , 20. , 17.8,  7. ,\n",
              "       11.8, 24.4, 13.8, 19.4, 25.2, 19.4, 19.4, 29.1])"
            ]
          },
          "execution_count": 3,
          "metadata": {},
          "output_type": "execute_result"
        }
      ],
      "source": [
        "train_targets"
      ]
    },
    {
      "cell_type": "code",
      "execution_count": 4,
      "metadata": {
        "id": "Yvib2q-RYklR"
      },
      "outputs": [
        {
          "name": "stdout",
          "output_type": "stream",
          "text": [
            "0.0 396.9\n",
            "0.0 666.0\n"
          ]
        }
      ],
      "source": [
        "print(min(train_data[0]), max(train_data[0]))\n",
        "print(min(train_data[10]), max(train_data[10]))"
      ]
    },
    {
      "cell_type": "markdown",
      "metadata": {
        "id": "341zJc4wLgnz"
      },
      "source": [
        "##Baseline"
      ]
    },
    {
      "cell_type": "code",
      "execution_count": 5,
      "metadata": {
        "id": "ijjPOZYcLkQK"
      },
      "outputs": [
        {
          "name": "stdout",
          "output_type": "stream",
          "text": [
            "mean:  23.07843137254902\n",
            "mae:  6.5990003844675105\n"
          ]
        }
      ],
      "source": [
        "import numpy as np\n",
        "\n",
        "print(\"mean: \", np.mean(test_targets))\n",
        "print(\"mae: \", np.mean(abs(test_targets - np.mean(test_targets))))"
      ]
    },
    {
      "cell_type": "code",
      "execution_count": 6,
      "metadata": {
        "id": "bP-L9MtGM_95"
      },
      "outputs": [
        {
          "name": "stdout",
          "output_type": "stream",
          "text": [
            "Training mean:  22.395049504950492\n",
            "Test mean:  23.07843137254902\n"
          ]
        }
      ],
      "source": [
        "print(\"Training mean: \", np.mean(train_targets))\n",
        "print(\"Test mean: \", np.mean(test_targets))"
      ]
    },
    {
      "cell_type": "markdown",
      "metadata": {
        "id": "ylWcY0g-Wh0y"
      },
      "source": [
        "#Prepare the data"
      ]
    },
    {
      "cell_type": "markdown",
      "metadata": {
        "id": "JcR9kDi3abP8"
      },
      "source": [
        "**Normalizing the input data**"
      ]
    },
    {
      "cell_type": "code",
      "execution_count": 7,
      "metadata": {
        "id": "Squf6oCjWkDe"
      },
      "outputs": [],
      "source": [
        "# Prepare inputs\n",
        "# TODO: Apply the standardization method for feature scaling for the input features\n",
        "# for both training and test datasets\n",
        "\n",
        "# TODO\n",
        "mean = train_data.mean(axis=0)\n",
        "train_data -= mean\n",
        "std = train_data.std(axis=0)\n",
        "train_data /= std\n",
        "\n",
        "# Apply the same mean and std from the training set to the test set\n",
        "test_data -= mean\n",
        "test_data /= std"
      ]
    },
    {
      "cell_type": "markdown",
      "metadata": {
        "id": "6VNxwbY5N6Sb"
      },
      "source": [
        "Note: the quantities used for normalizing the test data are computed using the\n",
        "training data. You should **never** use any quantity computed on the test data in your workflow, even for something as simple as data normalization."
      ]
    },
    {
      "cell_type": "markdown",
      "metadata": {
        "id": "U8ucaY7vWkeX"
      },
      "source": [
        "#Build the model"
      ]
    },
    {
      "cell_type": "markdown",
      "metadata": {
        "id": "IVWumCEdcsSw"
      },
      "source": [
        "**Define and compile the model**"
      ]
    },
    {
      "cell_type": "code",
      "execution_count": 8,
      "metadata": {
        "id": "EBDYkKXAWn9P"
      },
      "outputs": [],
      "source": [
        "from tensorflow import keras\n",
        "from tensorflow.keras import layers\n",
        "\n",
        "def build_model():\n",
        "\n",
        "  # TODO: Build a neural network model\n",
        "  model = keras.Sequential(\n",
        "      [\n",
        "          # TODO\n",
        "          layers.Dense(64, activation=\"relu\"),\n",
        "          layers.Dense(64, activation=\"relu\"),\n",
        "          layers.Dense(1) # Output layer: 1 unit, no activation (linear for scalar regression)\n",
        "      ]\n",
        "  )\n",
        "\n",
        "  # TODO: Configure the model\n",
        "  model.compile(\n",
        "      # TODO\n",
        "      optimizer=\"rmsprop\",\n",
        "      loss=\"mse\", # Mean Squared Error Loss\n",
        "      metrics=[\"mae\"] # Mean Absolute Error Metric\n",
        "  )\n",
        "\n",
        "  return model"
      ]
    },
    {
      "cell_type": "markdown",
      "metadata": {
        "id": "3xuORvz1WoNi"
      },
      "source": [
        "#Validate the model\n",
        "\n",
        "Using K-fold validation"
      ]
    },
    {
      "cell_type": "code",
      "execution_count": 9,
      "metadata": {
        "id": "JZjBU3qPe9gn"
      },
      "outputs": [
        {
          "name": "stdout",
          "output_type": "stream",
          "text": [
            "Processing fold #0\n",
            "Processing fold #1\n",
            "Processing fold #2\n",
            "Processing fold #3\n"
          ]
        }
      ],
      "source": [
        "# 500 epochs\n",
        "\n",
        "k = 4\n",
        "num_val_samples = len(train_data) // k\n",
        "num_epochs = 500\n",
        "\n",
        "all_mae_histories = []\n",
        "\n",
        "for i in range(k):\n",
        "  print(f\"Processing fold #{i}\")\n",
        "  val_data = train_data[i * num_val_samples: (i+1) * num_val_samples]\n",
        "  val_targets = train_targets[i * num_val_samples: (i+1) * num_val_samples]\n",
        "  partial_train_data = np.concatenate(\n",
        "      [train_data[:i * num_val_samples],\n",
        "       train_data[(i+1) * num_val_samples:]],\n",
        "      axis = 0\n",
        "  )\n",
        "  partial_train_targets = np.concatenate(\n",
        "      [train_targets[:i * num_val_samples],\n",
        "       train_targets[(i+1) * num_val_samples:]],\n",
        "      axis = 0\n",
        "  )\n",
        "\n",
        "  model = build_model()\n",
        "\n",
        "# TODO\n",
        "  history = model.fit(\n",
        "      #TODO\n",
        "      partial_train_data,\n",
        "      partial_train_targets,\n",
        "      epochs=num_epochs, # 500 epochs\n",
        "      batch_size=16, # Batch size 16\n",
        "      validation_data=(val_data, val_targets),\n",
        "      verbose=0 # Suppress verbose output for clean loop\n",
        "  )\n",
        "\n",
        "  mae_history = history.history[\"val_mae\"]\n",
        "  all_mae_histories.append(mae_history)\n"
      ]
    },
    {
      "cell_type": "code",
      "execution_count": 10,
      "metadata": {
        "id": "o5_yJexEd5zn"
      },
      "outputs": [],
      "source": [
        "# Building the history of successive mean K-fold validation scores\n",
        "\n",
        "average_mae_history = [\n",
        "    np.mean([x[i] for x in all_mae_histories]) for i in range(num_epochs)\n",
        "]"
      ]
    },
    {
      "cell_type": "code",
      "execution_count": 11,
      "metadata": {
        "id": "F0yJp_2ZgljA"
      },
      "outputs": [
        {
          "data": {
            "image/png": "[encoded data removed]",
            "text/plain": [
              "<Figure size 640x480 with 1 Axes>"
            ]
          },
          "metadata": {},
          "output_type": "display_data"
        }
      ],
      "source": [
        "# Plotting validation scores\n",
        "\n",
        "import matplotlib.pyplot as plt\n",
        "\n",
        "plt.plot(range(1, len(average_mae_history) + 1), average_mae_history)\n",
        "plt.xlabel(\"Epochs\")\n",
        "plt.ylabel(\"Validation MAE\")\n",
        "plt.show()"
      ]
    },
    {
      "cell_type": "code",
      "execution_count": 12,
      "metadata": {
        "id": "Dni-fsHghGf4"
      },
      "outputs": [
        {
          "data": {
            "image/png": "[encoded data removed]",
            "text/plain": [
              "<Figure size 640x480 with 1 Axes>"
            ]
          },
          "metadata": {},
          "output_type": "display_data"
        }
      ],
      "source": [
        "truncated_mae_history = average_mae_history[10:]\n",
        "plt.plot(range(1, len(truncated_mae_history) + 1), truncated_mae_history)\n",
        "plt.xlabel(\"Epochs\")\n",
        "plt.ylabel(\"Validation MAE\")\n",
        "plt.show()"
      ]
    },
    {
      "cell_type": "markdown",
      "metadata": {
        "id": "GavVBkAXd5-X"
      },
      "source": [
        "**Refine the model**"
      ]
    },
    {
      "cell_type": "code",
      "execution_count": 13,
      "metadata": {
        "id": "oUP8Gz8md-wC"
      },
      "outputs": [
        {
          "data": {
            "text/plain": [
              "<keras.src.callbacks.history.History at 0x123fc5fc0>"
            ]
          },
          "execution_count": 13,
          "metadata": {},
          "output_type": "execute_result"
        }
      ],
      "source": [
        "model = build_model()\n",
        "\n",
        "# TODO: train the final model using the best epoch\n",
        "best_epoch = 90 \n",
        "\n",
        "model.fit(\n",
        "    # TODO\n",
        "    train_data, \n",
        "    train_targets,\n",
        "    epochs=best_epoch, \n",
        "    batch_size=16,\n",
        "    verbose=0\n",
        ")"
      ]
    },
    {
      "cell_type": "markdown",
      "metadata": {
        "id": "0nDALc-8Wz9w"
      },
      "source": [
        "#Predict new data"
      ]
    },
    {
      "cell_type": "code",
      "execution_count": 14,
      "metadata": {
        "id": "uy0V5X05W3RA"
      },
      "outputs": [
        {
          "name": "stdout",
          "output_type": "stream",
          "text": [
            "\u001b[1m4/4\u001b[0m \u001b[32m━━━━━━━━━━━━━━━━━━━━\u001b[0m\u001b[37m\u001b[0m \u001b[1m0s\u001b[0m 6ms/step \n",
            "predicted:  [7.919841]\n",
            "target:  7.2\n"
          ]
        }
      ],
      "source": [
        "preditions = model.predict(test_data)\n",
        "print(\"predicted: \", preditions[0])\n",
        "print(\"target: \", test_targets[0])"
      ]
    },
    {
      "cell_type": "code",
      "execution_count": 15,
      "metadata": {
        "id": "MIBTSOE4kLbW"
      },
      "outputs": [
        {
          "name": "stdout",
          "output_type": "stream",
          "text": [
            "\u001b[1m4/4\u001b[0m \u001b[32m━━━━━━━━━━━━━━━━━━━━\u001b[0m\u001b[37m\u001b[0m \u001b[1m0s\u001b[0m 3ms/step - loss: 16.0480 - mae: 2.4799\n"
          ]
        },
        {
          "data": {
            "text/plain": [
              "2.4798943996429443"
            ]
          },
          "execution_count": 15,
          "metadata": {},
          "output_type": "execute_result"
        }
      ],
      "source": [
        "test_mse_score, test_mae_score = model.evaluate(test_data, test_targets)\n",
        "test_mae_score"
      ]
    }
  ],
  "metadata": {
    "accelerator": "GPU",
    "colab": {
      "gpuType": "T4",
      "provenance": []
    },
    "kernelspec": {
      "display_name": "Python 3",
      "name": "python3"
    },
    "language_info": {
      "codemirror_mode": {
        "name": "ipython",
        "version": 3
      },
      "file_extension": ".py",
      "mimetype": "text/x-python",
      "name": "python",
      "nbconvert_exporter": "python",
      "pygments_lexer": "ipython3",
      "version": "3.10.17"
    }
  },
  "nbformat": 4,
  "nbformat_minor": 0
}
