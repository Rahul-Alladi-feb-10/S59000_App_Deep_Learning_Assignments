{
  "cells": [
    {
      "cell_type": "markdown",
      "metadata": {
        "id": "_sbCbx9-WWj3"
      },
      "source": [
        "**Classifying newswires: a multiclass classification example**"
      ]
    },
    {
      "cell_type": "markdown",
      "metadata": {
        "id": "NrJEmF6_Wd8H"
      },
      "source": [
        "#Load the dataset"
      ]
    },
    {
      "cell_type": "code",
      "execution_count": 27,
      "metadata": {
        "id": "8ZvoBbcAWQuV"
      },
      "outputs": [],
      "source": [
        "from keras.datasets import reuters\n",
        "\n",
        "(train_data, train_labels), (test_data, test_labels) = reuters.load_data(\n",
        "    num_words=10000)"
      ]
    },
    {
      "cell_type": "code",
      "execution_count": 28,
      "metadata": {
        "id": "8jHtfpqeYOom"
      },
      "outputs": [
        {
          "data": {
            "text/plain": [
              "((8982,), (2246,))"
            ]
          },
          "execution_count": 28,
          "metadata": {},
          "output_type": "execute_result"
        }
      ],
      "source": [
        "train_data.shape, test_data.shape"
      ]
    },
    {
      "cell_type": "code",
      "execution_count": 29,
      "metadata": {
        "id": "MZLy1JuAYWxO"
      },
      "outputs": [
        {
          "name": "stdout",
          "output_type": "stream",
          "text": [
            "[1, 245, 273, 207, 156, 53, 74, 160, 26, 14, 46, 296, 26, 39, 74, 2979, 3554, 14, 46, 4689, 4329, 86, 61, 3499, 4795, 14, 61, 451, 4329, 17, 12]\n"
          ]
        }
      ],
      "source": [
        "print(train_data[10])"
      ]
    },
    {
      "cell_type": "code",
      "execution_count": 30,
      "metadata": {
        "id": "cLNwYfKyYtCe"
      },
      "outputs": [
        {
          "name": "stdout",
          "output_type": "stream",
          "text": [
            "? ? ? said as a result of its december acquisition of space co it expects earnings per share in 1987 of 1 15 to 1 30 dlrs per share up from 70 cts in 1986 the company said pretax net should rise to nine to 10 mln dlrs from six mln dlrs in 1986 and rental operation revenues to 19 to 22 mln dlrs from 12 5 mln dlrs it said cash flow per share this year should be 2 50 to three dlrs reuter 3\n"
          ]
        }
      ],
      "source": [
        "# Decode newswires back to text\n",
        "word_index = reuters.get_word_index()\n",
        "reverse_word_index = dict(\n",
        "    [(value, key) for (key, value) in word_index.items()]\n",
        ")\n",
        "decode_review = \" \".join(\n",
        "    [reverse_word_index.get(i - 3, \"?\") for i in train_data[0]]\n",
        ")\n",
        "print(decode_review)"
      ]
    },
    {
      "cell_type": "markdown",
      "metadata": {
        "id": "wie60x0KZ-kw"
      },
      "source": [
        "Note: \"0\" - Padding. \"1\" - Start of sequence. \"2\" - Unknown."
      ]
    },
    {
      "cell_type": "markdown",
      "metadata": {
        "id": "ylWcY0g-Wh0y"
      },
      "source": [
        "#Prepare the data"
      ]
    },
    {
      "cell_type": "markdown",
      "metadata": {
        "id": "JcR9kDi3abP8"
      },
      "source": [
        "**Encoding the integer sequence via multi-hot encoding**"
      ]
    },
    {
      "cell_type": "code",
      "execution_count": 31,
      "metadata": {
        "id": "Squf6oCjWkDe"
      },
      "outputs": [
        {
          "data": {
            "text/plain": [
              "array([0., 1., 1., ..., 0., 0., 0.], shape=(10000,))"
            ]
          },
          "execution_count": 31,
          "metadata": {},
          "output_type": "execute_result"
        }
      ],
      "source": [
        "# Prepare inputs by using multi-hot encoding\n",
        "\n",
        "import numpy as np\n",
        "\n",
        "# TODO: implement the following function for multi-hot encoding for inputs\n",
        "def vectorize_sequences(sequences, dimension=10000):\n",
        "  # TODO\n",
        "  results = np.zeros((len(sequences), dimension))\n",
        "  for i, sequence in enumerate(sequences):\n",
        "    results[i, sequence] = 1.\n",
        "  return results\n",
        "\n",
        "x_train = vectorize_sequences(train_data)\n",
        "x_test = vectorize_sequences(test_data)\n",
        "\n",
        "x_train[0]"
      ]
    },
    {
      "cell_type": "code",
      "execution_count": 32,
      "metadata": {
        "id": "FciW6SudcMKh"
      },
      "outputs": [],
      "source": [
        "# Prepare outputs by using one-hot encoding\n",
        "\n",
        "# TODO: implement one-hot encoding for outputs\n",
        "def to_one_hot(labels, dimension=46):\n",
        "  # TODO\n",
        "  results = np.zeros((len(labels), dimension))\n",
        "  for i, label in enumerate(labels):\n",
        "    results[i, label] = 1.\n",
        "  return results\n",
        "\n",
        "y_train = to_one_hot(train_labels)\n",
        "y_test = to_one_hot(test_labels)"
      ]
    },
    {
      "cell_type": "markdown",
      "metadata": {
        "id": "y3INS6GRukmW"
      },
      "source": [
        "Note: it can also use the built-in function in Keras:\n",
        "```\n",
        "from tensorflow.keras.utils import to_categorical\n",
        "y_train = to_categorical(train_labels)\n",
        "y_test = to_categorical(test_labels)\n",
        "```\n",
        "\n"
      ]
    },
    {
      "cell_type": "markdown",
      "metadata": {
        "id": "U8ucaY7vWkeX"
      },
      "source": [
        "#Build the model"
      ]
    },
    {
      "cell_type": "markdown",
      "metadata": {
        "id": "IVWumCEdcsSw"
      },
      "source": [
        "**Define the model**"
      ]
    },
    {
      "cell_type": "code",
      "execution_count": 33,
      "metadata": {
        "id": "EBDYkKXAWn9P"
      },
      "outputs": [],
      "source": [
        "from tensorflow import keras\n",
        "from keras import layers\n",
        "\n",
        "# TODO: build DL NN model\n",
        "model = keras.Sequential(\n",
        "    [\n",
        "        # TODO\n",
        "        layers.Dense(64, activation=\"relu\"),\n",
        "        layers.Dense(64, activation=\"relu\"),\n",
        "        layers.Dense(46, activation=\"softmax\")\n",
        "    ]\n",
        ")"
      ]
    },
    {
      "cell_type": "markdown",
      "metadata": {
        "id": "fvjunMlKcwmH"
      },
      "source": [
        "**Compile the model**"
      ]
    },
    {
      "cell_type": "code",
      "execution_count": 34,
      "metadata": {
        "id": "MmzIsmVMc2mj"
      },
      "outputs": [],
      "source": [
        "# TODO: fill in the information for compiling the model\n",
        "model.compile(\n",
        "  # TODO\n",
        "    optimizer=\"rmsprop\",\n",
        "    loss=\"categorical_crossentropy\",\n",
        "    metrics=[\"accuracy\"]\n",
        ")"
      ]
    },
    {
      "cell_type": "markdown",
      "metadata": {
        "id": "3xuORvz1WoNi"
      },
      "source": [
        "#Validate the model"
      ]
    },
    {
      "cell_type": "markdown",
      "metadata": {
        "id": "_ECF9KHDdoUH"
      },
      "source": [
        "**Fit the model with a validation set**"
      ]
    },
    {
      "cell_type": "code",
      "execution_count": 35,
      "metadata": {
        "id": "0qYqirZ4Wzh_"
      },
      "outputs": [],
      "source": [
        "x_val = x_train[:1000]\n",
        "partial_x_train = x_train[1000:]\n",
        "y_val = y_train[:1000]\n",
        "partial_y_train = y_train[1000:]"
      ]
    },
    {
      "cell_type": "code",
      "execution_count": 36,
      "metadata": {
        "id": "JZjBU3qPe9gn"
      },
      "outputs": [
        {
          "name": "stdout",
          "output_type": "stream",
          "text": [
            "Epoch 1/20\n",
            "\u001b[1m16/16\u001b[0m \u001b[32m━━━━━━━━━━━━━━━━━━━━\u001b[0m\u001b[37m\u001b[0m \u001b[1m1s\u001b[0m 31ms/step - accuracy: 0.5158 - loss: 2.6453 - val_accuracy: 0.6170 - val_loss: 1.7902\n",
            "Epoch 2/20\n",
            "\u001b[1m16/16\u001b[0m \u001b[32m━━━━━━━━━━━━━━━━━━━━\u001b[0m\u001b[37m\u001b[0m \u001b[1m0s\u001b[0m 12ms/step - accuracy: 0.6724 - loss: 1.5310 - val_accuracy: 0.6860 - val_loss: 1.3854\n",
            "Epoch 3/20\n",
            "\u001b[1m16/16\u001b[0m \u001b[32m━━━━━━━━━━━━━━━━━━━━\u001b[0m\u001b[37m\u001b[0m \u001b[1m0s\u001b[0m 8ms/step - accuracy: 0.7347 - loss: 1.1849 - val_accuracy: 0.7360 - val_loss: 1.2022\n",
            "Epoch 4/20\n",
            "\u001b[1m16/16\u001b[0m \u001b[32m━━━━━━━━━━━━━━━━━━━━\u001b[0m\u001b[37m\u001b[0m \u001b[1m0s\u001b[0m 11ms/step - accuracy: 0.7892 - loss: 0.9726 - val_accuracy: 0.7560 - val_loss: 1.0928\n",
            "Epoch 5/20\n",
            "\u001b[1m16/16\u001b[0m \u001b[32m━━━━━━━━━━━━━━━━━━━━\u001b[0m\u001b[37m\u001b[0m \u001b[1m0s\u001b[0m 8ms/step - accuracy: 0.8255 - loss: 0.8128 - val_accuracy: 0.7840 - val_loss: 1.0096\n",
            "Epoch 6/20\n",
            "\u001b[1m16/16\u001b[0m \u001b[32m━━━━━━━━━━━━━━━━━━━━\u001b[0m\u001b[37m\u001b[0m \u001b[1m0s\u001b[0m 8ms/step - accuracy: 0.8532 - loss: 0.6805 - val_accuracy: 0.7950 - val_loss: 0.9552\n",
            "Epoch 7/20\n",
            "\u001b[1m16/16\u001b[0m \u001b[32m━━━━━━━━━━━━━━━━━━━━\u001b[0m\u001b[37m\u001b[0m \u001b[1m0s\u001b[0m 9ms/step - accuracy: 0.8802 - loss: 0.5636 - val_accuracy: 0.7870 - val_loss: 0.9436\n",
            "Epoch 8/20\n",
            "\u001b[1m16/16\u001b[0m \u001b[32m━━━━━━━━━━━━━━━━━━━━\u001b[0m\u001b[37m\u001b[0m \u001b[1m0s\u001b[0m 12ms/step - accuracy: 0.8971 - loss: 0.4767 - val_accuracy: 0.8100 - val_loss: 0.8808\n",
            "Epoch 9/20\n",
            "\u001b[1m16/16\u001b[0m \u001b[32m━━━━━━━━━━━━━━━━━━━━\u001b[0m\u001b[37m\u001b[0m \u001b[1m0s\u001b[0m 8ms/step - accuracy: 0.9121 - loss: 0.4004 - val_accuracy: 0.8090 - val_loss: 0.8789\n",
            "Epoch 10/20\n",
            "\u001b[1m16/16\u001b[0m \u001b[32m━━━━━━━━━━━━━━━━━━━━\u001b[0m\u001b[37m\u001b[0m \u001b[1m0s\u001b[0m 10ms/step - accuracy: 0.9252 - loss: 0.3415 - val_accuracy: 0.8220 - val_loss: 0.8685\n",
            "Epoch 11/20\n",
            "\u001b[1m16/16\u001b[0m \u001b[32m━━━━━━━━━━━━━━━━━━━━\u001b[0m\u001b[37m\u001b[0m \u001b[1m0s\u001b[0m 8ms/step - accuracy: 0.9351 - loss: 0.2903 - val_accuracy: 0.8130 - val_loss: 0.8714\n",
            "Epoch 12/20\n",
            "\u001b[1m16/16\u001b[0m \u001b[32m━━━━━━━━━━━━━━━━━━━━\u001b[0m\u001b[37m\u001b[0m \u001b[1m0s\u001b[0m 9ms/step - accuracy: 0.9427 - loss: 0.2548 - val_accuracy: 0.8160 - val_loss: 0.8717\n",
            "Epoch 13/20\n",
            "\u001b[1m16/16\u001b[0m \u001b[32m━━━━━━━━━━━━━━━━━━━━\u001b[0m\u001b[37m\u001b[0m \u001b[1m0s\u001b[0m 9ms/step - accuracy: 0.9466 - loss: 0.2251 - val_accuracy: 0.8090 - val_loss: 0.8938\n",
            "Epoch 14/20\n",
            "\u001b[1m16/16\u001b[0m \u001b[32m━━━━━━━━━━━━━━━━━━━━\u001b[0m\u001b[37m\u001b[0m \u001b[1m0s\u001b[0m 9ms/step - accuracy: 0.9481 - loss: 0.2035 - val_accuracy: 0.8100 - val_loss: 0.9097\n",
            "Epoch 15/20\n",
            "\u001b[1m16/16\u001b[0m \u001b[32m━━━━━━━━━━━━━━━━━━━━\u001b[0m\u001b[37m\u001b[0m \u001b[1m0s\u001b[0m 8ms/step - accuracy: 0.9523 - loss: 0.1837 - val_accuracy: 0.8200 - val_loss: 0.8927\n",
            "Epoch 16/20\n",
            "\u001b[1m16/16\u001b[0m \u001b[32m━━━━━━━━━━━━━━━━━━━━\u001b[0m\u001b[37m\u001b[0m \u001b[1m0s\u001b[0m 8ms/step - accuracy: 0.9538 - loss: 0.1696 - val_accuracy: 0.8060 - val_loss: 0.9291\n",
            "Epoch 17/20\n",
            "\u001b[1m16/16\u001b[0m \u001b[32m━━━━━━━━━━━━━━━━━━━━\u001b[0m\u001b[37m\u001b[0m \u001b[1m0s\u001b[0m 8ms/step - accuracy: 0.9545 - loss: 0.1540 - val_accuracy: 0.8020 - val_loss: 0.9253\n",
            "Epoch 18/20\n",
            "\u001b[1m16/16\u001b[0m \u001b[32m━━━━━━━━━━━━━━━━━━━━\u001b[0m\u001b[37m\u001b[0m \u001b[1m0s\u001b[0m 8ms/step - accuracy: 0.9540 - loss: 0.1462 - val_accuracy: 0.8100 - val_loss: 0.9491\n",
            "Epoch 19/20\n",
            "\u001b[1m16/16\u001b[0m \u001b[32m━━━━━━━━━━━━━━━━━━━━\u001b[0m\u001b[37m\u001b[0m \u001b[1m0s\u001b[0m 8ms/step - accuracy: 0.9575 - loss: 0.1389 - val_accuracy: 0.8090 - val_loss: 0.9493\n",
            "Epoch 20/20\n",
            "\u001b[1m16/16\u001b[0m \u001b[32m━━━━━━━━━━━━━━━━━━━━\u001b[0m\u001b[37m\u001b[0m \u001b[1m0s\u001b[0m 10ms/step - accuracy: 0.9563 - loss: 0.1333 - val_accuracy: 0.8020 - val_loss: 0.9849\n"
          ]
        }
      ],
      "source": [
        "# TODO: train the model\n",
        "history = model.fit(\n",
        "    # TODO\n",
        "    partial_x_train,\n",
        "    partial_y_train,\n",
        "    epochs=20,\n",
        "    batch_size=512,\n",
        "    validation_data=(x_val, y_val)\n",
        ")"
      ]
    },
    {
      "cell_type": "markdown",
      "metadata": {
        "id": "SJnGNYD8dwun"
      },
      "source": [
        "**Plot the training and validation loss**"
      ]
    },
    {
      "cell_type": "code",
      "execution_count": 37,
      "metadata": {
        "id": "o5_yJexEd5zn"
      },
      "outputs": [],
      "source": [
        "import matplotlib.pyplot as plt\n",
        "\n",
        "def plot_training_validation_results(training_results, validation_results,\n",
        "                                     title, ylabel):\n",
        "  print(\"training: \", training_results)\n",
        "  print(\"validation: \", validation_results)\n",
        "  plt.clf()\n",
        "  epochs = range(1, len(training_results)+1)\n",
        "  plt.plot(epochs, training_results, \"bo\", label=\"Training\")\n",
        "  plt.plot(epochs, validation_results, \"b\", label=\"Validation\")\n",
        "  plt.xlabel(\"Epochs\")\n",
        "  plt.ylabel(ylabel)\n",
        "  plt.legend()\n",
        "  plt.show()"
      ]
    },
    {
      "cell_type": "code",
      "execution_count": 38,
      "metadata": {
        "id": "F0yJp_2ZgljA"
      },
      "outputs": [
        {
          "name": "stdout",
          "output_type": "stream",
          "text": [
            "training:  [2.6452579498291016, 1.5310062170028687, 1.1849445104599, 0.9725810885429382, 0.8127797842025757, 0.6805019378662109, 0.5635789036750793, 0.4767463505268097, 0.40041008591651917, 0.341471791267395, 0.2903251051902771, 0.25484082102775574, 0.22507625818252563, 0.2035335898399353, 0.1837051659822464, 0.16957412660121918, 0.1539662480354309, 0.14624060690402985, 0.13894905149936676, 0.13325126469135284]\n",
            "validation:  [1.7901828289031982, 1.3854451179504395, 1.202203392982483, 1.092839241027832, 1.0095866918563843, 0.9551888704299927, 0.9435508847236633, 0.8808462619781494, 0.8789046406745911, 0.8685251474380493, 0.8713846206665039, 0.8716967701911926, 0.8938122987747192, 0.9097262024879456, 0.892709493637085, 0.9291096925735474, 0.9252978563308716, 0.9490825533866882, 0.9493012428283691, 0.9849288463592529]\n"
          ]
        },
        {
          "data": {
            "image/png": "[encoded data removed]",
            "text/plain": [
              "<Figure size 640x480 with 1 Axes>"
            ]
          },
          "metadata": {},
          "output_type": "display_data"
        }
      ],
      "source": [
        "history_dict = history.history\n",
        "training_loss_values = history_dict[\"loss\"]\n",
        "validation_loss_values = history_dict[\"val_loss\"]\n",
        "plot_training_validation_results(training_loss_values, validation_loss_values,\n",
        "                                 \"Training and validation loss\", \"Loss\")"
      ]
    },
    {
      "cell_type": "code",
      "execution_count": 39,
      "metadata": {
        "id": "Dni-fsHghGf4"
      },
      "outputs": [
        {
          "name": "stdout",
          "output_type": "stream",
          "text": [
            "training:  [0.5157855153083801, 0.6723878979682922, 0.7346529960632324, 0.789150595664978, 0.8254823088645935, 0.8531696200370789, 0.8802305459976196, 0.8971436023712158, 0.9120520949363708, 0.92520672082901, 0.9351040124893188, 0.9427461624145508, 0.9466299414634705, 0.9481332898139954, 0.952267587184906, 0.9537709951400757, 0.9545226693153381, 0.9540215730667114, 0.9575294256210327, 0.9562765955924988]\n",
            "validation:  [0.6169999837875366, 0.6859999895095825, 0.7360000014305115, 0.7559999823570251, 0.7839999794960022, 0.7950000166893005, 0.7870000004768372, 0.8100000023841858, 0.8090000152587891, 0.8220000267028809, 0.8130000233650208, 0.8159999847412109, 0.8090000152587891, 0.8100000023841858, 0.8199999928474426, 0.8059999942779541, 0.8019999861717224, 0.8100000023841858, 0.8090000152587891, 0.8019999861717224]\n"
          ]
        },
        {
          "data": {
            "image/png": "[encoded data removed]",
            "text/plain": [
              "<Figure size 640x480 with 1 Axes>"
            ]
          },
          "metadata": {},
          "output_type": "display_data"
        }
      ],
      "source": [
        "training_acc = history_dict[\"accuracy\"]\n",
        "validation_acc = history_dict[\"val_accuracy\"]\n",
        "plot_training_validation_results(training_acc, validation_acc,\n",
        "                                 \"Training and validation accuracy\",\n",
        "                                 \"Accuracy\")"
      ]
    },
    {
      "cell_type": "markdown",
      "metadata": {
        "id": "GavVBkAXd5-X"
      },
      "source": [
        "**Refine the model**"
      ]
    },
    {
      "cell_type": "code",
      "execution_count": 40,
      "metadata": {
        "id": "oUP8Gz8md-wC"
      },
      "outputs": [],
      "source": [
        "# TODO: build DL NN model\n",
        "model = keras.Sequential(\n",
        "    [\n",
        "        # TODO\n",
        "        layers.Dense(64, activation=\"relu\"),\n",
        "        layers.Dense(64, activation=\"relu\"),\n",
        "        layers.Dense(46, activation=\"softmax\")\n",
        "    ]\n",
        ")"
      ]
    },
    {
      "cell_type": "code",
      "execution_count": 41,
      "metadata": {},
      "outputs": [],
      "source": [
        "# TODO: fill in the information for compiling the model\n",
        "model.compile(\n",
        "    # TODO\n",
        "    optimizer=\"rmsprop\",\n",
        "    loss=\"categorical_crossentropy\",\n",
        "    metrics=[\"accuracy\"]\n",
        ")"
      ]
    },
    {
      "cell_type": "markdown",
      "metadata": {
        "id": "0nDALc-8Wz9w"
      },
      "source": [
        "#Predict new data"
      ]
    },
    {
      "cell_type": "code",
      "execution_count": 42,
      "metadata": {},
      "outputs": [
        {
          "name": "stdout",
          "output_type": "stream",
          "text": [
            "Epoch 1/11\n",
            "\u001b[1m18/18\u001b[0m \u001b[32m━━━━━━━━━━━━━━━━━━━━\u001b[0m\u001b[37m\u001b[0m \u001b[1m1s\u001b[0m 9ms/step - accuracy: 0.5278 - loss: 2.5997\n",
            "Epoch 2/11\n",
            "\u001b[1m18/18\u001b[0m \u001b[32m━━━━━━━━━━━━━━━━━━━━\u001b[0m\u001b[37m\u001b[0m \u001b[1m0s\u001b[0m 7ms/step - accuracy: 0.6893 - loss: 1.4594\n",
            "Epoch 3/11\n",
            "\u001b[1m18/18\u001b[0m \u001b[32m━━━━━━━━━━━━━━━━━━━━\u001b[0m\u001b[37m\u001b[0m \u001b[1m0s\u001b[0m 7ms/step - accuracy: 0.7578 - loss: 1.1177\n",
            "Epoch 4/11\n",
            "\u001b[1m18/18\u001b[0m \u001b[32m━━━━━━━━━━━━━━━━━━━━\u001b[0m\u001b[37m\u001b[0m \u001b[1m0s\u001b[0m 7ms/step - accuracy: 0.8078 - loss: 0.9064\n",
            "Epoch 5/11\n",
            "\u001b[1m18/18\u001b[0m \u001b[32m━━━━━━━━━━━━━━━━━━━━\u001b[0m\u001b[37m\u001b[0m \u001b[1m0s\u001b[0m 7ms/step - accuracy: 0.8388 - loss: 0.7461\n",
            "Epoch 6/11\n",
            "\u001b[1m18/18\u001b[0m \u001b[32m━━━━━━━━━━━━━━━━━━━━\u001b[0m\u001b[37m\u001b[0m \u001b[1m0s\u001b[0m 7ms/step - accuracy: 0.8694 - loss: 0.6149\n",
            "Epoch 7/11\n",
            "\u001b[1m18/18\u001b[0m \u001b[32m━━━━━━━━━━━━━━━━━━━━\u001b[0m\u001b[37m\u001b[0m \u001b[1m0s\u001b[0m 7ms/step - accuracy: 0.8939 - loss: 0.5107\n",
            "Epoch 8/11\n",
            "\u001b[1m18/18\u001b[0m \u001b[32m━━━━━━━━━━━━━━━━━━━━\u001b[0m\u001b[37m\u001b[0m \u001b[1m0s\u001b[0m 7ms/step - accuracy: 0.9115 - loss: 0.4336\n",
            "Epoch 9/11\n",
            "\u001b[1m18/18\u001b[0m \u001b[32m━━━━━━━━━━━━━━━━━━━━\u001b[0m\u001b[37m\u001b[0m \u001b[1m0s\u001b[0m 7ms/step - accuracy: 0.9205 - loss: 0.3695\n",
            "Epoch 10/11\n",
            "\u001b[1m18/18\u001b[0m \u001b[32m━━━━━━━━━━━━━━━━━━━━\u001b[0m\u001b[37m\u001b[0m \u001b[1m0s\u001b[0m 11ms/step - accuracy: 0.9316 - loss: 0.3177\n",
            "Epoch 11/11\n",
            "\u001b[1m18/18\u001b[0m \u001b[32m━━━━━━━━━━━━━━━━━━━━\u001b[0m\u001b[37m\u001b[0m \u001b[1m0s\u001b[0m 7ms/step - accuracy: 0.9378 - loss: 0.2802\n"
          ]
        },
        {
          "data": {
            "text/plain": [
              "<keras.src.callbacks.history.History at 0x1266bad40>"
            ]
          },
          "execution_count": 42,
          "metadata": {},
          "output_type": "execute_result"
        }
      ],
      "source": [
        "# TODO: train the model using the best epoch\n",
        "best_epoch = 11\n",
        "\n",
        "model.fit(\n",
        "    # TODO\n",
        "    x_train, \n",
        "    y_train,\n",
        "    epochs=best_epoch, \n",
        "    batch_size=512\n",
        ")"
      ]
    },
    {
      "cell_type": "code",
      "execution_count": 43,
      "metadata": {
        "id": "uy0V5X05W3RA"
      },
      "outputs": [
        {
          "name": "stdout",
          "output_type": "stream",
          "text": [
            "\u001b[1m71/71\u001b[0m \u001b[32m━━━━━━━━━━━━━━━━━━━━\u001b[0m\u001b[37m\u001b[0m \u001b[1m0s\u001b[0m 687us/step\n"
          ]
        },
        {
          "data": {
            "text/plain": [
              "array([[7.3959513e-06, 2.0162469e-04, 2.2999937e-05, ..., 6.6883447e-05,\n",
              "        3.5106805e-06, 2.8943263e-05],\n",
              "       [2.4985779e-02, 2.3572478e-02, 3.5051280e-03, ..., 4.0824027e-05,\n",
              "        9.2774040e-05, 3.4203273e-03],\n",
              "       [6.8143738e-04, 9.4394398e-01, 3.4188083e-04, ..., 1.9761709e-04,\n",
              "        3.2664835e-04, 6.3220283e-04],\n",
              "       ...,\n",
              "       [3.8135506e-05, 1.1079294e-03, 1.0121110e-04, ..., 8.1754428e-05,\n",
              "        2.1996017e-05, 3.7478731e-05],\n",
              "       [4.0394170e-03, 1.3242254e-01, 6.5437336e-03, ..., 6.4443995e-04,\n",
              "        3.8685428e-04, 4.5121158e-04],\n",
              "       [4.2718244e-04, 5.0790435e-01, 6.3285716e-03, ..., 5.6464388e-04,\n",
              "        1.7163798e-03, 1.0085722e-04]], shape=(2246, 46), dtype=float32)"
            ]
          },
          "execution_count": 43,
          "metadata": {},
          "output_type": "execute_result"
        }
      ],
      "source": [
        "model.predict(x_test)"
      ]
    },
    {
      "cell_type": "code",
      "execution_count": 44,
      "metadata": {
        "id": "MIBTSOE4kLbW"
      },
      "outputs": [
        {
          "name": "stdout",
          "output_type": "stream",
          "text": [
            "\u001b[1m71/71\u001b[0m \u001b[32m━━━━━━━━━━━━━━━━━━━━\u001b[0m\u001b[37m\u001b[0m \u001b[1m0s\u001b[0m 644us/step - accuracy: 0.7988 - loss: 0.9223\n",
            "[0.922330915927887, 0.7987533211708069]\n"
          ]
        }
      ],
      "source": [
        "results = model.evaluate(x_test, y_test)\n",
        "print(results)"
      ]
    },
    {
      "cell_type": "markdown",
      "metadata": {
        "id": "arGEf-lCv7yr"
      },
      "source": [
        "#Other experiments"
      ]
    },
    {
      "cell_type": "markdown",
      "metadata": {
        "id": "4GaksPMq2fKG"
      },
      "source": [
        "##Consider the baseline"
      ]
    },
    {
      "cell_type": "code",
      "execution_count": 45,
      "metadata": {
        "id": "8QQj3bSDwFzJ"
      },
      "outputs": [
        {
          "data": {
            "text/plain": [
              "np.float64(0.19456812110418523)"
            ]
          },
          "execution_count": 45,
          "metadata": {},
          "output_type": "execute_result"
        }
      ],
      "source": [
        "import copy\n",
        "\n",
        "test_labels_copy = copy.copy(test_labels)\n",
        "np.random.shuffle(test_labels_copy)\n",
        "hits_array = np.array(test_labels) == np.array(test_labels_copy)\n",
        "hits_array.mean()"
      ]
    },
    {
      "cell_type": "code",
      "execution_count": 46,
      "metadata": {
        "id": "qjUwtXj7wbRU"
      },
      "outputs": [
        {
          "name": "stdout",
          "output_type": "stream",
          "text": [
            "[ 12. 105.  20. 813. 474.   5.  14.   3.  38.  25.  30.  83.  13.  37.\n",
            "   2.   9.  99.  12.  20. 133.  70.  27.   7.  12.  19.  31.   8.   4.\n",
            "  10.   4.  12.  13.  10.   5.   7.   6.  11.   2.   3.   5.  10.   8.\n",
            "   3.   6.   5.   1.]\n",
            "813.0\n",
            "0.3619768477292965\n"
          ]
        }
      ],
      "source": [
        "results = np.zeros(46)\n",
        "for label in test_labels:\n",
        "  results[label] += 1\n",
        "print(results)\n",
        "print(max(results))\n",
        "print(max(results) / sum(results))"
      ]
    },
    {
      "cell_type": "code",
      "execution_count": 47,
      "metadata": {
        "id": "14CmaApMxWeb"
      },
      "outputs": [
        {
          "name": "stdout",
          "output_type": "stream",
          "text": [
            "[  55.  432.   74. 3159. 1949.   17.   48.   16.  139.  101.  124.  390.\n",
            "   49.  172.   26.   20.  444.   39.   66.  549.  269.  100.   15.   41.\n",
            "   62.   92.   24.   15.   48.   19.   45.   39.   32.   11.   50.   10.\n",
            "   49.   19.   19.   24.   36.   30.   13.   21.   12.   18.]\n",
            "3159.0\n",
            "0.3517034068136273\n"
          ]
        }
      ],
      "source": [
        "results = np.zeros(46)\n",
        "for label in train_labels:\n",
        "  results[label] += 1\n",
        "print(results)\n",
        "print(max(results))\n",
        "print(max(results) / sum(results))"
      ]
    }
  ],
  "metadata": {
    "accelerator": "GPU",
    "colab": {
      "gpuType": "T4",
      "provenance": []
    },
    "kernelspec": {
      "display_name": "Python 3",
      "name": "python3"
    },
    "language_info": {
      "codemirror_mode": {
        "name": "ipython",
        "version": 3
      },
      "file_extension": ".py",
      "mimetype": "text/x-python",
      "name": "python",
      "nbconvert_exporter": "python",
      "pygments_lexer": "ipython3",
      "version": "3.10.17"
    }
  },
  "nbformat": 4,
  "nbformat_minor": 0
}
