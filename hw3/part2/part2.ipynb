{
  "nbformat": 4,
  "nbformat_minor": 0,
  "metadata": {
    "colab": {
      "provenance": []
    },
    "kernelspec": {
      "name": "python3",
      "display_name": "Python 3"
    },
    "language_info": {
      "name": "python"
    }
  },
  "cells": [
    {
      "cell_type": "code",
      "execution_count": 1,
      "metadata": {
        "colab": {
          "base_uri": "https://localhost:8080/"
        },
        "id": "4zW5_m_Ea5jK",
        "outputId": "e394b80c-d490-4511-a1ac-3bbeba69988b"
      },
      "outputs": [
        {
          "output_type": "stream",
          "name": "stdout",
          "text": [
            "Collecting gtts\n",
            "  Downloading gTTS-2.5.4-py3-none-any.whl.metadata (4.1 kB)\n",
            "Requirement already satisfied: requests<3,>=2.27 in /usr/local/lib/python3.12/dist-packages (from gtts) (2.32.4)\n",
            "Collecting click<8.2,>=7.1 (from gtts)\n",
            "  Downloading click-8.1.8-py3-none-any.whl.metadata (2.3 kB)\n",
            "Requirement already satisfied: charset_normalizer<4,>=2 in /usr/local/lib/python3.12/dist-packages (from requests<3,>=2.27->gtts) (3.4.3)\n",
            "Requirement already satisfied: idna<4,>=2.5 in /usr/local/lib/python3.12/dist-packages (from requests<3,>=2.27->gtts) (3.10)\n",
            "Requirement already satisfied: urllib3<3,>=1.21.1 in /usr/local/lib/python3.12/dist-packages (from requests<3,>=2.27->gtts) (2.5.0)\n",
            "Requirement already satisfied: certifi>=2017.4.17 in /usr/local/lib/python3.12/dist-packages (from requests<3,>=2.27->gtts) (2025.8.3)\n",
            "Downloading gTTS-2.5.4-py3-none-any.whl (29 kB)\n",
            "Downloading click-8.1.8-py3-none-any.whl (98 kB)\n",
            "\u001b[2K   \u001b[90m━━━━━━━━━━━━━━━━━━━━━━━━━━━━━━━━━━━━━━━━\u001b[0m \u001b[32m98.2/98.2 kB\u001b[0m \u001b[31m8.1 MB/s\u001b[0m eta \u001b[36m0:00:00\u001b[0m\n",
            "\u001b[?25hInstalling collected packages: click, gtts\n",
            "  Attempting uninstall: click\n",
            "    Found existing installation: click 8.2.1\n",
            "    Uninstalling click-8.2.1:\n",
            "      Successfully uninstalled click-8.2.1\n",
            "Successfully installed click-8.1.8 gtts-2.5.4\n"
          ]
        }
      ],
      "source": [
        "!pip install gtts"
      ]
    },
    {
      "cell_type": "code",
      "source": [
        "import moviepy.editor as mp\n",
        "import gtts\n",
        "from PIL import Image, ImageDraw, ImageFont\n",
        "\n",
        "# List of images and their respective durations in seconds\n",
        "images = [\n",
        "    (\"./data/pet_morning.png\", 6),\n",
        "    (\"./data/pet_nap.png\", 12),\n",
        "    (\"./data/pet_playtime.png\", 4)\n",
        "]\n",
        "\n",
        "# Corresponding voiceover text for each image\n",
        "voiceover_texts = [\n",
        "    \"My day begins with a gentle wake-up call, usually from the sound of my food bowl being filled.\",\n",
        "    \"After a busy morning, it's crucial to find the perfect spot for an afternoon nap. My favorite is a sunbeam near the window.\",\n",
        "    \"The best part of the day is when my human comes home. It's finally time for our evening game of fetch!\"\n",
        "]\n",
        "\n",
        "# Captions for each image\n",
        "captions = [\n",
        "    \"My day begins with a gentle wake-up call, usually from the sound of my food bowl being filled.\",\n",
        "    \"After a busy morning, it's crucial to find the perfect spot for an afternoon nap. My favorite is a sunbeam near the window.\",\n",
        "    \"The best part of the day is when my human comes home. It's finally time for our evening game of fetch!\"\n",
        "]\n",
        "\n",
        "# Function to add text to an image with multiple lines and black rectangle background\n",
        "def add_text_to_image_multiline_black(image_path, text, output_path, font_size=40, max_width=50, y_offset=400):\n",
        "    img = Image.open(image_path)\n",
        "    draw = ImageDraw.Draw(img)\n",
        "    try:\n",
        "        font = ImageFont.truetype(\"LiberationSans-Bold.ttf\", font_size)\n",
        "    except IOError:\n",
        "        font = ImageFont.load_default()\n",
        "        print(\"Warning: LiberationSans-Bold.ttf not found, using default font.\")\n",
        "\n",
        "\n",
        "    # Split text into multiple lines\n",
        "    lines = []\n",
        "    words = text.split()\n",
        "    while words:\n",
        "        line = ''\n",
        "        while words and len(line) + len(words[0]) + 1 <= max_width:\n",
        "            line = line + (words.pop(0) + ' ')\n",
        "        lines.append(line.strip())\n",
        "\n",
        "    # Calculate text position\n",
        "    total_text_height = sum([draw.textbbox((0, 0), line, font=font)[3] - draw.textbbox((0, 0), line, font=font)[1] for line in lines])\n",
        "    width, height = img.size\n",
        "    y = (height - total_text_height) / 2 + y_offset\n",
        "\n",
        "    for line in lines:\n",
        "        text_w = draw.textlength(line, font=font)\n",
        "        text_h = draw.textbbox((0, 0), line, font=font)[3] - draw.textbbox((0, 0), line, font=font)[1]\n",
        "        x = (width - text_w) / 2\n",
        "        draw.rectangle([(x - 10, y - 10), (x + text_w + 10, y + text_h + 10)], fill=\"black\")\n",
        "        draw.text((x, y), line, font=font, fill=\"white\")\n",
        "        y += text_h * 1.2 # Reduced line spacing\n",
        "\n",
        "    img.save(output_path)\n",
        "\n",
        "# Add captions to images\n",
        "captioned_images = []\n",
        "for i, (image_path, duration) in enumerate(images):\n",
        "    output_path = f\"./data/captioned_pet_image_{i}.png\"\n",
        "    add_text_to_image_multiline_black(image_path, captions[i], output_path)\n",
        "    captioned_images.append((output_path, duration))\n",
        "\n",
        "# Generate voiceover using gTTS\n",
        "voiceover_clips = []\n",
        "for i, text in enumerate(voiceover_texts):\n",
        "    tts = gtts.gTTS(text, lang='en')\n",
        "    tts.save(f\"./data/pet_voiceover_{i}.mp3\")\n",
        "    voiceover_clips.append(mp.AudioFileClip(f\"./data/pet_voiceover_{i}.mp3\"))\n",
        "\n",
        "# Create video clips for each image with captions\n",
        "image_clips = []\n",
        "for i, (image_path, duration) in enumerate(captioned_images):\n",
        "    img_clip = mp.ImageClip(image_path).set_duration(duration)\n",
        "    image_clips.append(img_clip)\n",
        "\n",
        "# Concatenate video clips\n",
        "final_video_clip = mp.concatenate_videoclips(image_clips)\n",
        "\n",
        "# Concatenate audio clips\n",
        "final_audio_clip = mp.concatenate_audioclips(voiceover_clips)\n",
        "\n",
        "# Set the audio of the final video clip\n",
        "final_clip = final_video_clip.set_audio(final_audio_clip)\n",
        "\n",
        "# Write the final video to a file\n",
        "output_file_path = \"./day_in_life_pet.mp4\"\n",
        "final_clip.write_videofile(output_file_path, fps=24)\n",
        "\n",
        "output_file_path"
      ],
      "metadata": {
        "colab": {
          "base_uri": "https://localhost:8080/",
          "height": 160
        },
        "id": "0a3jLMBGa-SO",
        "outputId": "7f132d93-5451-48e8-979f-f61702faebc6"
      },
      "execution_count": 7,
      "outputs": [
        {
          "output_type": "stream",
          "name": "stdout",
          "text": [
            "Moviepy - Building video ./day_in_life_pet.mp4.\n",
            "MoviePy - Writing audio in day_in_life_petTEMP_MPY_wvf_snd.mp3\n"
          ]
        },
        {
          "output_type": "stream",
          "name": "stderr",
          "text": []
        },
        {
          "output_type": "stream",
          "name": "stdout",
          "text": [
            "MoviePy - Done.\n",
            "Moviepy - Writing video ./day_in_life_pet.mp4\n",
            "\n"
          ]
        },
        {
          "output_type": "stream",
          "name": "stderr",
          "text": []
        },
        {
          "output_type": "stream",
          "name": "stdout",
          "text": [
            "Moviepy - Done !\n",
            "Moviepy - video ready ./day_in_life_pet.mp4\n"
          ]
        },
        {
          "output_type": "execute_result",
          "data": {
            "text/plain": [
              "'./day_in_life_pet.mp4'"
            ],
            "application/vnd.google.colaboratory.intrinsic+json": {
              "type": "string"
            }
          },
          "metadata": {},
          "execution_count": 7
        }
      ]
    }
  ]
}